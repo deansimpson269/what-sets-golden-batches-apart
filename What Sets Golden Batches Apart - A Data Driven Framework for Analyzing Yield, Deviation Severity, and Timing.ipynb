{
 "cells": [
  {
   "cell_type": "markdown",
   "id": "e627b421",
   "metadata": {},
   "source": [
    "## Project Context and Purpose\n",
    "\n",
    "This notebook continues where Project 1 left off. Last time, we explored how deviations vary across batches,  showing how issue count and severity can shift from one production run to the next.\n",
    "\n",
    "This time, we're asking a different question:\n",
    "\n",
    "**What can we learn from the best batches? And can we use that to make the average batch better?**\n",
    "\n",
    "In this project, we compare “Golden Batches” (the highest yielding, \"cleanest\", production runs in biomanufacturing) to \"Routine\" production batches. We look at four key factors: yield, deviation count, severity score, and processing time. The goal is to understand what *sets top performers apart*, and turn those findings into process improvements.\n",
    "\n",
    "---\n",
    "\n",
    "## Why this project?\n",
    "\n",
    "Most teams in biopharma don’t use Python or data science tools yet, but that’s starting to change.\n",
    "\n",
    "As someone learning data science from the ground up while working in biomanufacturing, I’m using this project to show what’s possible, and to share that you don’t need to be an expert to start building something useful. Even a few lines of code can spark key insights.\n",
    "\n",
    "We can uncover trends that help:\n",
    "- Operators understand what a “great” batch really looks like  \n",
    "- MSAT, QA, and Tech Transfer identify success patterns, not just troubleshoot problems  \n",
    "- Teams move from firefighting to reverse engineering consistency\n",
    "\n",
    "> Built with biopharma in mind, but if you work with processes, data, or manufacturing in any industry, there’s something here for you too.\n",
    "\n",
    "**This project is part of a larger goal:** to bring smarter tools into biopharma, by connecting coding, process knowledge, and visual storytelling.\n"
   ]
  },
  {
   "cell_type": "markdown",
   "id": "9e6493f0",
   "metadata": {},
   "source": [
    "---"
   ]
  },
  {
   "cell_type": "markdown",
   "id": "5221a3e1",
   "metadata": {},
   "source": [
    "## What Sets Golden Batches Apart: A Visual & Statistical Analysis of Process Yield, Deviations, and Timing\n",
    "\n",
    "**Author:** Dealian Simpson  \n",
    "**Date:** July 2025  \n",
    "**Tools:** Python · Pandas · Seaborn · Matplotlib  \n",
    "**Environment:** Local Jupyter Notebook  \n",
    "\n",
    "\n",
    "**Series:** Biopharma Data Science Portfolio  \n",
    "**Previous Project:** [Batch Deviation Visualization – Severity & Impact Trends](https://lnkd.in/eFTSASdj)\n",
    "\n",
    "#### Notebook Roadmap (Chunk Map):\n",
    "- **Chunk 0:** Project Goal\n",
    "- **Chunk 1:** Importing Libraries and Loading Data\n",
    "- **Chunk 2:** Inspecting Data\n",
    "- **Chunk 3:** Cleaning and Formatting\n",
    "- **Chunk 4:** Segmenting Batches by Yield (Golden vs Routine)\n",
    "- **Chunk 5:** Comparing Performance Across Batch Types\n",
    "- **Chunk 6:** Visualizing Batch Comparisons (Bar Plot)\n",
    "- **Chunk 7:** Visualizing Feature Correlations (Heatmap) \n",
    "- **Chunk 8:** Processing Time Distribution (Boxplot + Stripplot)\n",
    "\n",
    "\n"
   ]
  },
  {
   "cell_type": "markdown",
   "id": "7eff2142",
   "metadata": {},
   "source": [
    "---"
   ]
  },
  {
   "cell_type": "markdown",
   "id": "e955011d",
   "metadata": {},
   "source": [
    "## Chunk 0: Project Goal "
   ]
  },
  {
   "cell_type": "markdown",
   "id": "b30004cd",
   "metadata": {},
   "source": [
    "This project explores how to identify and learn from “golden” batches (the top performing production runs in a manufacturing process).\n",
    "\n",
    "A **batch** is a single production run or one complete cycle of making a product. In biomanufacturing, this product could be a full run of producing a vaccine, a cell therapy product, or monoclonal antibodies. Even when following the same process, batches can vary in output, quality, and the number of issues (called deviations).\n",
    "\n",
    "However, by comparing \"golden\" batches to routine ones, we uncover what makes high performers more efficient, reliable, and repeatable.\n",
    "\n",
    "The goal is to turn batch data into something clear and visual, support smarter decisions, improve process consistency, and help teams understand what good (or \"golden\") looks like in manufacturing.\n"
   ]
  },
  {
   "cell_type": "markdown",
   "id": "abe851d7",
   "metadata": {},
   "source": [
    "---"
   ]
  },
  {
   "cell_type": "markdown",
   "id": "1f255a33",
   "metadata": {},
   "source": [
    "## Chunk 1: Importing Libraries and Loading Data"
   ]
  },
  {
   "cell_type": "markdown",
   "id": "a122202b",
   "metadata": {},
   "source": [
    "Before we dive into the actual analysis, we’ll set up our tools. We’re using Python, one of the most popular tools in data science, to help us interpret biomanufacturing data **clearly, efficiently, and visually**, all with just a few lines of readable code. I like to think of the libraries we’re importing here like the digital version of lab instruments: each one has a job, whether it’s loading spreadsheets, reshaping messy data, or creating graphs and images.\n",
    "\n",
    "To follow along, we'll load a sample Excel file with 100 synthetic biomanufacturing batches.\n",
    "\n",
    "Each batch includes four core metrics we'll use to compare performance:\n",
    "\n",
    "- **Yield**: How much product was successfully made.\n",
    "\n",
    "- **Processing Time**: How long the batch took.\n",
    "\n",
    "- **Deviation Count**: How many issues or problems came up.\n",
    "\n",
    "- **Severity Score**: How serious those problems were.\n",
    "\n",
    "These are the benchmarks we’ll use to compare high performing batches to routine ones, and figure out what sets the best apart.\n",
    "\n",
    "Getting this step right is critical. Clean data loading is the foundation of any analysis. If we mess it up here, everything downstream (graphs, insights, decisions) can go off track.\n",
    "\n",
    "We'll begin by importing `pandas`, the core Python library for data handling, and loading our dataset into a usable format.\n",
    "\n",
    "pandas is used for tasks like reading data files, cleaning messy values, and reshaping tables for analysis.\n",
    "\n",
    "We'll also use `xlrd` to open this older `.xls` Excel file, an earlier (aka \"legacy\") format used before 2007 (modern Excel uses `.xlsx`).\n",
    "\n",
    "This chunk sets up our foundation: clean data in, clean insights out. "
   ]
  },
  {
   "cell_type": "markdown",
   "id": "a52de211",
   "metadata": {},
   "source": [
    "> Below, we'll install and import the required tools and read the dataset."
   ]
  },
  {
   "cell_type": "markdown",
   "id": "05f2bd7c",
   "metadata": {},
   "source": [
    "---\n",
    "\n",
    "**Quick Summary**\n",
    "\n",
    "We will:\n",
    "\n",
    "- Import key libraries: `pandas` for data handling, `xlrd` for reading legacy `.xls` files.\n",
    "- Load the dataset from a legacy Excel file ('.xls') using `pd.read_excel()` with the 'xlrd' engine.\n",
    "- Confirm successful import to set the foundation for downstream analysis.\n",
    "\n",
    "> This step ensures our data is clean, structured, and ready for analysis.\n",
    "\n",
    "**Note**: 'xlrd' is only needed for older Excel formats (pre-2007), not '.xlsx' files.\n",
    "\n",
    "---"
   ]
  },
  {
   "cell_type": "code",
   "execution_count": 154,
   "id": "7942b33a",
   "metadata": {},
   "outputs": [
    {
     "name": "stdout",
     "output_type": "stream",
     "text": [
      "Requirement already satisfied: xlrd in ./opt/miniconda3/lib/python3.9/site-packages (2.0.1)\r\n"
     ]
    }
   ],
   "source": [
    "#Install the xlrd library (only needed for reading .xls Excel files)\n",
    "!pip install xlrd\n",
    "\n",
    "#Import the pandas library for data handling\n",
    "import pandas as pd\n",
    "\n",
    "#Define the path to the excel file\n",
    "file_path = 'golden_batch_comparator_dataset_v2(AutoRecovered).xls'\n",
    "\n",
    "#Load the excel file into a DataFrame using the xlrd engine\n",
    "#(xlrd is required for legacy .xls formats, not for .xlsx)\n",
    "#Specify engine='xlrd' because the file is a .xls (an older Excel format)\n",
    "\n",
    "exceldoc = pd.read_excel(file_path, engine = 'xlrd')"
   ]
  },
  {
   "cell_type": "markdown",
   "id": "441da098",
   "metadata": {},
   "source": [
    "---\n",
    "\n",
    "**Quick Recap**\n",
    "- The dataset was successfully imported using the correct engine for legacy .xls Excel files.\n",
    "\n",
    "- All columns loaded correctly, enabling inspection of structure, data types, and completeness in the next chunk.\n",
    "\n",
    "- Knowing how to handle legacy file formats is valuable in real world manufacturing environments where older systems may still be in use.\n",
    "\n",
    "---"
   ]
  },
  {
   "cell_type": "markdown",
   "id": "71382e40",
   "metadata": {},
   "source": [
    "## Chunk 2: Inspecting the Data"
   ]
  },
  {
   "cell_type": "markdown",
   "id": "9c2748bc",
   "metadata": {},
   "source": [
    "Next, we'll examine the dataset's structure, including column names, data types, and missing values. This validates data integrity and helps determine if any cleaning is necessary in the next chunk.\n",
    "\n",
    "- `.info()` shows each column’s name, what kind of data it holds (called a data type, like numbers, decimals, or text), and how many entries are present (non-null count = number of non-empty rows).\n",
    "- `.shape` reveals the number of rows and columns.\n",
    "- `isna().sum()` confirms that no values are missing from the dataset. \n",
    "- `.head()` displays the first five rows of the dataset.\n",
    "\n",
    "This quick inspection gives confidence that the dataset is complete and ready for analysis, with no gaps in critical features like yield, processing time, or deviation scores. "
   ]
  },
  {
   "cell_type": "markdown",
   "id": "d054b960",
   "metadata": {},
   "source": [
    "---\n",
    "\n",
    "**Quick Summary**\n",
    "- The dataset includes 100 rows × 6 columns.\n",
    "- There are no missing values. All columns are complete and ready for analysis.\n",
    "\n",
    "---"
   ]
  },
  {
   "cell_type": "code",
   "execution_count": 155,
   "id": "362e45b0",
   "metadata": {},
   "outputs": [
    {
     "name": "stdout",
     "output_type": "stream",
     "text": [
      "<class 'pandas.core.frame.DataFrame'>\n",
      "RangeIndex: 100 entries, 0 to 99\n",
      "Data columns (total 6 columns):\n",
      " #   Column                    Non-Null Count  Dtype  \n",
      "---  ------                    --------------  -----  \n",
      " 0   Batch_ID                  100 non-null    object \n",
      " 1   Yield                     100 non-null    float64\n",
      " 2   Processing_Time           100 non-null    float64\n",
      " 3   Deviation_Count           100 non-null    int64  \n",
      " 4   Deviation_Severity_Score  100 non-null    float64\n",
      " 5   Batch_Type                100 non-null    object \n",
      "dtypes: float64(3), int64(1), object(2)\n",
      "memory usage: 4.8+ KB\n",
      "None\n",
      "(100, 6)\n"
     ]
    }
   ],
   "source": [
    "#View column names, data types, and row count\n",
    "print(exceldoc.info()) # column names, data types, and non-null counts\n",
    "print(exceldoc.shape)  # (rows, columns)\n"
   ]
  },
  {
   "cell_type": "code",
   "execution_count": 156,
   "id": "4bdc4ae3",
   "metadata": {},
   "outputs": [
    {
     "data": {
      "text/plain": [
       "Batch_ID                    0\n",
       "Yield                       0\n",
       "Processing_Time             0\n",
       "Deviation_Count             0\n",
       "Deviation_Severity_Score    0\n",
       "Batch_Type                  0\n",
       "dtype: int64"
      ]
     },
     "execution_count": 156,
     "metadata": {},
     "output_type": "execute_result"
    }
   ],
   "source": [
    "#Check how many missing values exist in each column\n",
    "exceldoc.isna().sum()"
   ]
  },
  {
   "cell_type": "code",
   "execution_count": 157,
   "id": "8989dc18",
   "metadata": {
    "scrolled": true
   },
   "outputs": [
    {
     "data": {
      "text/html": [
       "<div>\n",
       "<style scoped>\n",
       "    .dataframe tbody tr th:only-of-type {\n",
       "        vertical-align: middle;\n",
       "    }\n",
       "\n",
       "    .dataframe tbody tr th {\n",
       "        vertical-align: top;\n",
       "    }\n",
       "\n",
       "    .dataframe thead th {\n",
       "        text-align: right;\n",
       "    }\n",
       "</style>\n",
       "<table border=\"1\" class=\"dataframe\">\n",
       "  <thead>\n",
       "    <tr style=\"text-align: right;\">\n",
       "      <th></th>\n",
       "      <th>Batch_ID</th>\n",
       "      <th>Yield</th>\n",
       "      <th>Processing_Time</th>\n",
       "      <th>Deviation_Count</th>\n",
       "      <th>Deviation_Severity_Score</th>\n",
       "      <th>Batch_Type</th>\n",
       "    </tr>\n",
       "  </thead>\n",
       "  <tbody>\n",
       "    <tr>\n",
       "      <th>0</th>\n",
       "      <td>Batch_1</td>\n",
       "      <td>92.483571</td>\n",
       "      <td>36.677034</td>\n",
       "      <td>4</td>\n",
       "      <td>6.290752</td>\n",
       "      <td>Routine</td>\n",
       "    </tr>\n",
       "    <tr>\n",
       "      <th>1</th>\n",
       "      <td>Batch_2</td>\n",
       "      <td>89.308678</td>\n",
       "      <td>44.634837</td>\n",
       "      <td>5</td>\n",
       "      <td>7.737263</td>\n",
       "      <td>Routine</td>\n",
       "    </tr>\n",
       "    <tr>\n",
       "      <th>2</th>\n",
       "      <td>Batch_3</td>\n",
       "      <td>93.238443</td>\n",
       "      <td>45.258284</td>\n",
       "      <td>5</td>\n",
       "      <td>3.070153</td>\n",
       "      <td>Routine</td>\n",
       "    </tr>\n",
       "    <tr>\n",
       "      <th>3</th>\n",
       "      <td>Batch_4</td>\n",
       "      <td>97.615149</td>\n",
       "      <td>41.581782</td>\n",
       "      <td>1</td>\n",
       "      <td>6.372103</td>\n",
       "      <td>Golden</td>\n",
       "    </tr>\n",
       "    <tr>\n",
       "      <th>4</th>\n",
       "      <td>Batch_5</td>\n",
       "      <td>88.829233</td>\n",
       "      <td>46.709714</td>\n",
       "      <td>0</td>\n",
       "      <td>7.116849</td>\n",
       "      <td>Routine</td>\n",
       "    </tr>\n",
       "  </tbody>\n",
       "</table>\n",
       "</div>"
      ],
      "text/plain": [
       "  Batch_ID      Yield  Processing_Time  Deviation_Count  \\\n",
       "0  Batch_1  92.483571        36.677034                4   \n",
       "1  Batch_2  89.308678        44.634837                5   \n",
       "2  Batch_3  93.238443        45.258284                5   \n",
       "3  Batch_4  97.615149        41.581782                1   \n",
       "4  Batch_5  88.829233        46.709714                0   \n",
       "\n",
       "   Deviation_Severity_Score Batch_Type  \n",
       "0                  6.290752    Routine  \n",
       "1                  7.737263    Routine  \n",
       "2                  3.070153    Routine  \n",
       "3                  6.372103     Golden  \n",
       "4                  7.116849    Routine  "
      ]
     },
     "execution_count": 157,
     "metadata": {},
     "output_type": "execute_result"
    }
   ],
   "source": [
    "#Display the first five rows of the original dataset\n",
    "exceldoc.head()"
   ]
  },
  {
   "cell_type": "markdown",
   "id": "96369656",
   "metadata": {},
   "source": [
    "> **Note**: You might notice a lot of decimal places in variables like Yield, Deviation Severity Score, or Processing Time. That’s because computers store time and other values with high precision (e.g., decimals instead of hours/minutes) to support accurate analysis. \n",
    "\n",
    "> For clarity, the charts will round numbers, but behind the scenes, we preserve full precision to keep the data trustworthy and consistent. "
   ]
  },
  {
   "cell_type": "markdown",
   "id": "7b0fa10a",
   "metadata": {},
   "source": [
    "---\n",
    "\n",
    "**Quick Recap**\n",
    "\n",
    "- No missing values: all entries are complete.\n",
    "- Column data types are valid and consistent.\n",
    "- Dataset includes 100 batches, split between Golden and Routine.\n",
    "\n",
    "Next up: we'll clean and format the data for downstream analysis. \n",
    "\n",
    "---"
   ]
  },
  {
   "cell_type": "markdown",
   "id": "0946316f",
   "metadata": {},
   "source": [
    "## Chunk 3: Cleaning and Formatting the Dataset\n",
    "To improve readability and support later analysis and visualization, we'll make several formatting adjustments:\n",
    "- Round float values to 2 decimal places.\n",
    "- Update column names for clarity (e.g., \"Yield (%), \"Processing Time (hrs)\").\n",
    "- Reformat processing times from float hours to ' 'Xh Ym' ' format.\n",
    "- Replace underscores in batch IDs with spaces.\n",
    "- Set the Batch ID as the index (row label) so we can reference batches by name instead of row number.  "
   ]
  },
  {
   "cell_type": "markdown",
   "id": "68f24410",
   "metadata": {},
   "source": [
    "---\n",
    "\n",
    "**Quick Summary**\n",
    "We clean and format the dataset to support analysis and visualization. This includes rounding floats, renaming columns for clarity, converting processing time into a readable format, and setting the batch ID as the index for easier reference.  \n",
    "\n",
    "---"
   ]
  },
  {
   "cell_type": "code",
   "execution_count": 158,
   "id": "fc77f4fb",
   "metadata": {
    "scrolled": true
   },
   "outputs": [
    {
     "data": {
      "text/html": [
       "<div>\n",
       "<style scoped>\n",
       "    .dataframe tbody tr th:only-of-type {\n",
       "        vertical-align: middle;\n",
       "    }\n",
       "\n",
       "    .dataframe tbody tr th {\n",
       "        vertical-align: top;\n",
       "    }\n",
       "\n",
       "    .dataframe thead th {\n",
       "        text-align: right;\n",
       "    }\n",
       "</style>\n",
       "<table border=\"1\" class=\"dataframe\">\n",
       "  <thead>\n",
       "    <tr style=\"text-align: right;\">\n",
       "      <th></th>\n",
       "      <th>Batch_ID</th>\n",
       "      <th>Yield</th>\n",
       "      <th>Processing_Time</th>\n",
       "      <th>Deviation_Count</th>\n",
       "      <th>Deviation_Severity_Score</th>\n",
       "      <th>Batch_Type</th>\n",
       "    </tr>\n",
       "  </thead>\n",
       "  <tbody>\n",
       "    <tr>\n",
       "      <th>0</th>\n",
       "      <td>Batch_1</td>\n",
       "      <td>92.48</td>\n",
       "      <td>36.68</td>\n",
       "      <td>4</td>\n",
       "      <td>6.29</td>\n",
       "      <td>Routine</td>\n",
       "    </tr>\n",
       "    <tr>\n",
       "      <th>1</th>\n",
       "      <td>Batch_2</td>\n",
       "      <td>89.31</td>\n",
       "      <td>44.63</td>\n",
       "      <td>5</td>\n",
       "      <td>7.74</td>\n",
       "      <td>Routine</td>\n",
       "    </tr>\n",
       "    <tr>\n",
       "      <th>2</th>\n",
       "      <td>Batch_3</td>\n",
       "      <td>93.24</td>\n",
       "      <td>45.26</td>\n",
       "      <td>5</td>\n",
       "      <td>3.07</td>\n",
       "      <td>Routine</td>\n",
       "    </tr>\n",
       "    <tr>\n",
       "      <th>3</th>\n",
       "      <td>Batch_4</td>\n",
       "      <td>97.62</td>\n",
       "      <td>41.58</td>\n",
       "      <td>1</td>\n",
       "      <td>6.37</td>\n",
       "      <td>Golden</td>\n",
       "    </tr>\n",
       "    <tr>\n",
       "      <th>4</th>\n",
       "      <td>Batch_5</td>\n",
       "      <td>88.83</td>\n",
       "      <td>46.71</td>\n",
       "      <td>0</td>\n",
       "      <td>7.12</td>\n",
       "      <td>Routine</td>\n",
       "    </tr>\n",
       "  </tbody>\n",
       "</table>\n",
       "</div>"
      ],
      "text/plain": [
       "  Batch_ID  Yield  Processing_Time  Deviation_Count  Deviation_Severity_Score  \\\n",
       "0  Batch_1  92.48            36.68                4                      6.29   \n",
       "1  Batch_2  89.31            44.63                5                      7.74   \n",
       "2  Batch_3  93.24            45.26                5                      3.07   \n",
       "3  Batch_4  97.62            41.58                1                      6.37   \n",
       "4  Batch_5  88.83            46.71                0                      7.12   \n",
       "\n",
       "  Batch_Type  \n",
       "0    Routine  \n",
       "1    Routine  \n",
       "2    Routine  \n",
       "3     Golden  \n",
       "4    Routine  "
      ]
     },
     "execution_count": 158,
     "metadata": {},
     "output_type": "execute_result"
    }
   ],
   "source": [
    "#Round float values to 2 decimal places for cleaner display\n",
    "exceldoc = exceldoc.round(2)\n",
    "\n",
    "#Display the first five rows of the cleaned dataset\n",
    "exceldoc.head()"
   ]
  },
  {
   "cell_type": "code",
   "execution_count": 159,
   "id": "820b9abe",
   "metadata": {
    "scrolled": true
   },
   "outputs": [
    {
     "data": {
      "text/plain": [
       "Index(['Batch ID', 'Yield (%)', 'Processing Time (hrs)', 'Deviation Count',\n",
       "       'Deviation Severity Score (avg)', 'Batch Type'],\n",
       "      dtype='object')"
      ]
     },
     "execution_count": 159,
     "metadata": {},
     "output_type": "execute_result"
    }
   ],
   "source": [
    "#Rename columns for clarity and unit labeling\n",
    "exceldoc.rename(columns = {'Batch_ID' : 'Batch ID', 'Yield': 'Yield (%)', 'Processing_Time':'Processing Time (hrs)', 'Deviation_Count': 'Deviation Count', 'Deviation_Severity_Score': 'Deviation Severity Score (avg)', 'Batch_Type': 'Batch Type'}, inplace = True)\n",
    "\n",
    "#Check updated column names\n",
    "exceldoc.columns"
   ]
  },
  {
   "cell_type": "code",
   "execution_count": 160,
   "id": "bc3ce0c1",
   "metadata": {
    "scrolled": true
   },
   "outputs": [
    {
     "data": {
      "text/html": [
       "<div>\n",
       "<style scoped>\n",
       "    .dataframe tbody tr th:only-of-type {\n",
       "        vertical-align: middle;\n",
       "    }\n",
       "\n",
       "    .dataframe tbody tr th {\n",
       "        vertical-align: top;\n",
       "    }\n",
       "\n",
       "    .dataframe thead th {\n",
       "        text-align: right;\n",
       "    }\n",
       "</style>\n",
       "<table border=\"1\" class=\"dataframe\">\n",
       "  <thead>\n",
       "    <tr style=\"text-align: right;\">\n",
       "      <th></th>\n",
       "      <th>Batch ID</th>\n",
       "      <th>Yield (%)</th>\n",
       "      <th>Processing Time (hrs)</th>\n",
       "      <th>Deviation Count</th>\n",
       "      <th>Deviation Severity Score (avg)</th>\n",
       "      <th>Batch Type</th>\n",
       "    </tr>\n",
       "  </thead>\n",
       "  <tbody>\n",
       "    <tr>\n",
       "      <th>0</th>\n",
       "      <td>Batch_1</td>\n",
       "      <td>92.48</td>\n",
       "      <td>36.68</td>\n",
       "      <td>4</td>\n",
       "      <td>6.29</td>\n",
       "      <td>Routine</td>\n",
       "    </tr>\n",
       "    <tr>\n",
       "      <th>1</th>\n",
       "      <td>Batch_2</td>\n",
       "      <td>89.31</td>\n",
       "      <td>44.63</td>\n",
       "      <td>5</td>\n",
       "      <td>7.74</td>\n",
       "      <td>Routine</td>\n",
       "    </tr>\n",
       "    <tr>\n",
       "      <th>2</th>\n",
       "      <td>Batch_3</td>\n",
       "      <td>93.24</td>\n",
       "      <td>45.26</td>\n",
       "      <td>5</td>\n",
       "      <td>3.07</td>\n",
       "      <td>Routine</td>\n",
       "    </tr>\n",
       "    <tr>\n",
       "      <th>3</th>\n",
       "      <td>Batch_4</td>\n",
       "      <td>97.62</td>\n",
       "      <td>41.58</td>\n",
       "      <td>1</td>\n",
       "      <td>6.37</td>\n",
       "      <td>Golden</td>\n",
       "    </tr>\n",
       "    <tr>\n",
       "      <th>4</th>\n",
       "      <td>Batch_5</td>\n",
       "      <td>88.83</td>\n",
       "      <td>46.71</td>\n",
       "      <td>0</td>\n",
       "      <td>7.12</td>\n",
       "      <td>Routine</td>\n",
       "    </tr>\n",
       "  </tbody>\n",
       "</table>\n",
       "</div>"
      ],
      "text/plain": [
       "  Batch ID  Yield (%)  Processing Time (hrs)  Deviation Count  \\\n",
       "0  Batch_1      92.48                  36.68                4   \n",
       "1  Batch_2      89.31                  44.63                5   \n",
       "2  Batch_3      93.24                  45.26                5   \n",
       "3  Batch_4      97.62                  41.58                1   \n",
       "4  Batch_5      88.83                  46.71                0   \n",
       "\n",
       "   Deviation Severity Score (avg) Batch Type  \n",
       "0                            6.29    Routine  \n",
       "1                            7.74    Routine  \n",
       "2                            3.07    Routine  \n",
       "3                            6.37     Golden  \n",
       "4                            7.12    Routine  "
      ]
     },
     "execution_count": 160,
     "metadata": {},
     "output_type": "execute_result"
    }
   ],
   "source": [
    "#Display the first five rows of the cleaned dataset\n",
    "exceldoc.head()"
   ]
  },
  {
   "cell_type": "code",
   "execution_count": 161,
   "id": "de1ad161",
   "metadata": {
    "scrolled": true
   },
   "outputs": [],
   "source": [
    "#Define a function to convert float hours to \"Hh Mm\" format\n",
    "def convert_to_hours_minutes(hours_float):\n",
    "    hours = int(hours_float)\n",
    "    minutes = int((hours_float - hours) * 60)\n",
    "    return f\"{hours}h {minutes}m\"\n",
    "\n",
    "#Apply the function to the Processing Time column\n",
    "exceldoc[\"Processing Time (hrs)\"] = exceldoc[\"Processing Time (hrs)\"].apply(convert_to_hours_minutes)\n"
   ]
  },
  {
   "cell_type": "code",
   "execution_count": 162,
   "id": "f685d161",
   "metadata": {},
   "outputs": [
    {
     "data": {
      "text/html": [
       "<div>\n",
       "<style scoped>\n",
       "    .dataframe tbody tr th:only-of-type {\n",
       "        vertical-align: middle;\n",
       "    }\n",
       "\n",
       "    .dataframe tbody tr th {\n",
       "        vertical-align: top;\n",
       "    }\n",
       "\n",
       "    .dataframe thead th {\n",
       "        text-align: right;\n",
       "    }\n",
       "</style>\n",
       "<table border=\"1\" class=\"dataframe\">\n",
       "  <thead>\n",
       "    <tr style=\"text-align: right;\">\n",
       "      <th></th>\n",
       "      <th>Batch ID</th>\n",
       "      <th>Yield (%)</th>\n",
       "      <th>Processing Time (hrs)</th>\n",
       "      <th>Deviation Count</th>\n",
       "      <th>Deviation Severity Score (avg)</th>\n",
       "      <th>Batch Type</th>\n",
       "    </tr>\n",
       "  </thead>\n",
       "  <tbody>\n",
       "    <tr>\n",
       "      <th>0</th>\n",
       "      <td>Batch_1</td>\n",
       "      <td>92.48</td>\n",
       "      <td>36h 40m</td>\n",
       "      <td>4</td>\n",
       "      <td>6.29</td>\n",
       "      <td>Routine</td>\n",
       "    </tr>\n",
       "    <tr>\n",
       "      <th>1</th>\n",
       "      <td>Batch_2</td>\n",
       "      <td>89.31</td>\n",
       "      <td>44h 37m</td>\n",
       "      <td>5</td>\n",
       "      <td>7.74</td>\n",
       "      <td>Routine</td>\n",
       "    </tr>\n",
       "    <tr>\n",
       "      <th>2</th>\n",
       "      <td>Batch_3</td>\n",
       "      <td>93.24</td>\n",
       "      <td>45h 15m</td>\n",
       "      <td>5</td>\n",
       "      <td>3.07</td>\n",
       "      <td>Routine</td>\n",
       "    </tr>\n",
       "    <tr>\n",
       "      <th>3</th>\n",
       "      <td>Batch_4</td>\n",
       "      <td>97.62</td>\n",
       "      <td>41h 34m</td>\n",
       "      <td>1</td>\n",
       "      <td>6.37</td>\n",
       "      <td>Golden</td>\n",
       "    </tr>\n",
       "    <tr>\n",
       "      <th>4</th>\n",
       "      <td>Batch_5</td>\n",
       "      <td>88.83</td>\n",
       "      <td>46h 42m</td>\n",
       "      <td>0</td>\n",
       "      <td>7.12</td>\n",
       "      <td>Routine</td>\n",
       "    </tr>\n",
       "  </tbody>\n",
       "</table>\n",
       "</div>"
      ],
      "text/plain": [
       "  Batch ID  Yield (%) Processing Time (hrs)  Deviation Count  \\\n",
       "0  Batch_1      92.48               36h 40m                4   \n",
       "1  Batch_2      89.31               44h 37m                5   \n",
       "2  Batch_3      93.24               45h 15m                5   \n",
       "3  Batch_4      97.62               41h 34m                1   \n",
       "4  Batch_5      88.83               46h 42m                0   \n",
       "\n",
       "   Deviation Severity Score (avg) Batch Type  \n",
       "0                            6.29    Routine  \n",
       "1                            7.74    Routine  \n",
       "2                            3.07    Routine  \n",
       "3                            6.37     Golden  \n",
       "4                            7.12    Routine  "
      ]
     },
     "execution_count": 162,
     "metadata": {},
     "output_type": "execute_result"
    }
   ],
   "source": [
    "#Display the first five rows to reveal the updated and cleaned dataset\n",
    "exceldoc.head()"
   ]
  },
  {
   "cell_type": "code",
   "execution_count": 163,
   "id": "82fdbc31",
   "metadata": {},
   "outputs": [],
   "source": [
    "#Clean up Batch IDs by removing underscores and replacing them with spaces\n",
    "exceldoc['Batch ID'] = exceldoc['Batch ID'].str.replace('_', ' ')\n",
    "\n",
    "#Set 'Batch ID' as the index for readability and referencing \n",
    "exceldoc.set_index('Batch ID', inplace = True)"
   ]
  },
  {
   "cell_type": "code",
   "execution_count": 164,
   "id": "21e01366",
   "metadata": {},
   "outputs": [
    {
     "data": {
      "text/html": [
       "<div>\n",
       "<style scoped>\n",
       "    .dataframe tbody tr th:only-of-type {\n",
       "        vertical-align: middle;\n",
       "    }\n",
       "\n",
       "    .dataframe tbody tr th {\n",
       "        vertical-align: top;\n",
       "    }\n",
       "\n",
       "    .dataframe thead th {\n",
       "        text-align: right;\n",
       "    }\n",
       "</style>\n",
       "<table border=\"1\" class=\"dataframe\">\n",
       "  <thead>\n",
       "    <tr style=\"text-align: right;\">\n",
       "      <th></th>\n",
       "      <th>Yield (%)</th>\n",
       "      <th>Processing Time (hrs)</th>\n",
       "      <th>Deviation Count</th>\n",
       "      <th>Deviation Severity Score (avg)</th>\n",
       "      <th>Batch Type</th>\n",
       "    </tr>\n",
       "    <tr>\n",
       "      <th>Batch ID</th>\n",
       "      <th></th>\n",
       "      <th></th>\n",
       "      <th></th>\n",
       "      <th></th>\n",
       "      <th></th>\n",
       "    </tr>\n",
       "  </thead>\n",
       "  <tbody>\n",
       "    <tr>\n",
       "      <th>Batch 1</th>\n",
       "      <td>92.48</td>\n",
       "      <td>36h 40m</td>\n",
       "      <td>4</td>\n",
       "      <td>6.29</td>\n",
       "      <td>Routine</td>\n",
       "    </tr>\n",
       "    <tr>\n",
       "      <th>Batch 2</th>\n",
       "      <td>89.31</td>\n",
       "      <td>44h 37m</td>\n",
       "      <td>5</td>\n",
       "      <td>7.74</td>\n",
       "      <td>Routine</td>\n",
       "    </tr>\n",
       "    <tr>\n",
       "      <th>Batch 3</th>\n",
       "      <td>93.24</td>\n",
       "      <td>45h 15m</td>\n",
       "      <td>5</td>\n",
       "      <td>3.07</td>\n",
       "      <td>Routine</td>\n",
       "    </tr>\n",
       "    <tr>\n",
       "      <th>Batch 4</th>\n",
       "      <td>97.62</td>\n",
       "      <td>41h 34m</td>\n",
       "      <td>1</td>\n",
       "      <td>6.37</td>\n",
       "      <td>Golden</td>\n",
       "    </tr>\n",
       "    <tr>\n",
       "      <th>Batch 5</th>\n",
       "      <td>88.83</td>\n",
       "      <td>46h 42m</td>\n",
       "      <td>0</td>\n",
       "      <td>7.12</td>\n",
       "      <td>Routine</td>\n",
       "    </tr>\n",
       "  </tbody>\n",
       "</table>\n",
       "</div>"
      ],
      "text/plain": [
       "          Yield (%) Processing Time (hrs)  Deviation Count  \\\n",
       "Batch ID                                                     \n",
       "Batch 1       92.48               36h 40m                4   \n",
       "Batch 2       89.31               44h 37m                5   \n",
       "Batch 3       93.24               45h 15m                5   \n",
       "Batch 4       97.62               41h 34m                1   \n",
       "Batch 5       88.83               46h 42m                0   \n",
       "\n",
       "          Deviation Severity Score (avg) Batch Type  \n",
       "Batch ID                                             \n",
       "Batch 1                             6.29    Routine  \n",
       "Batch 2                             7.74    Routine  \n",
       "Batch 3                             3.07    Routine  \n",
       "Batch 4                             6.37     Golden  \n",
       "Batch 5                             7.12    Routine  "
      ]
     },
     "execution_count": 164,
     "metadata": {},
     "output_type": "execute_result"
    }
   ],
   "source": [
    "#Display the first five rows to preview the final cleaned and formatted dataset\n",
    "exceldoc.head()"
   ]
  },
  {
   "cell_type": "markdown",
   "id": "935ba261",
   "metadata": {},
   "source": [
    "---\n",
    "\n",
    "**Quick Recap**\n",
    "- `.round(2)`: Rounded all float values to two decimal places.\n",
    "- `.head()`: Displayed first 5 rows to confirm rounding.\n",
    "- `.rename()`: Labeled columns with unit indicators (e.g., %hrs).\n",
    "- Defined `convert_to_hours_minutes()` to reformat processing time from float to 'Xh Ym'.\n",
    "- Applied function to the Processing Time(hrs) column using `.apply()`.\n",
    "- Used `.str.replace('_', ' ')` to clean up batch ID formatting.\n",
    "- Set Batch ID as the index for easier referencing with `.set_index()`.\n",
    "\n",
    "---\n",
    "\n"
   ]
  },
  {
   "cell_type": "markdown",
   "id": "bc8a2ff6",
   "metadata": {},
   "source": [
    "## Chunk 4: Segmenting Batches by Yield (Golden vs Routine)\n",
    "\n",
    "Now, we'll classify batches based on their yield:\n",
    "- Batches in the top 10% of yield (90th percentile) are labeled  **Golden**\n",
    "- All others are labeled **Routine**\n",
    "\n",
    "> ***Why 90th percentile?*** ***Why not top 5% or 75th percentile?*** The 90th percentile helps isolate consistently high performing batches without being overly strict (e.g., top 1%) or too lenient (e.g. top 25%).\n",
    "\n",
    "\n",
    "This helps us compare performance characteristics between high performing and routine batches. We're also going to create a binary label called `Batch Type`, where each batch is marked as either `Golden` or `Routine`, based on yield performance. "
   ]
  },
  {
   "cell_type": "markdown",
   "id": "3060857a",
   "metadata": {},
   "source": [
    "---\n",
    "\n",
    "**Quick Summary**\n",
    "\n",
    "Used `quantile(0.9)` to identify the top 10% of batches by yield.\n",
    "\n",
    "Created a new \"Batch Type\" column labeled as either \"Golden\" or \"Routine\".\n",
    "\n",
    "Used `np.where()` to apply the labeling logic.\n",
    "\n",
    "---"
   ]
  },
  {
   "cell_type": "code",
   "execution_count": 185,
   "id": "264d72da",
   "metadata": {},
   "outputs": [],
   "source": [
    "import numpy as np\n",
    "\n",
    "#Compute yield threshold at the 90th percentile to identify high-performing batches\n",
    "yield_threshold = exceldoc['Yield (%)'].quantile(0.9)\n",
    "\n",
    "#Label each batch as 'Golden' if yield meets threshold, otherwise 'Routine'\n",
    "exceldoc['Batch Type'] = np.where(exceldoc['Yield (%)']>= yield_threshold, 'Golden', 'Routine')\n"
   ]
  },
  {
   "cell_type": "code",
   "execution_count": 166,
   "id": "4a2d9115",
   "metadata": {},
   "outputs": [
    {
     "data": {
      "text/html": [
       "<div>\n",
       "<style scoped>\n",
       "    .dataframe tbody tr th:only-of-type {\n",
       "        vertical-align: middle;\n",
       "    }\n",
       "\n",
       "    .dataframe tbody tr th {\n",
       "        vertical-align: top;\n",
       "    }\n",
       "\n",
       "    .dataframe thead th {\n",
       "        text-align: right;\n",
       "    }\n",
       "</style>\n",
       "<table border=\"1\" class=\"dataframe\">\n",
       "  <thead>\n",
       "    <tr style=\"text-align: right;\">\n",
       "      <th></th>\n",
       "      <th>Yield (%)</th>\n",
       "      <th>Processing Time (hrs)</th>\n",
       "      <th>Deviation Count</th>\n",
       "      <th>Deviation Severity Score (avg)</th>\n",
       "      <th>Batch Type</th>\n",
       "    </tr>\n",
       "    <tr>\n",
       "      <th>Batch ID</th>\n",
       "      <th></th>\n",
       "      <th></th>\n",
       "      <th></th>\n",
       "      <th></th>\n",
       "      <th></th>\n",
       "    </tr>\n",
       "  </thead>\n",
       "  <tbody>\n",
       "    <tr>\n",
       "      <th>Batch 1</th>\n",
       "      <td>92.48</td>\n",
       "      <td>36h 40m</td>\n",
       "      <td>4</td>\n",
       "      <td>6.29</td>\n",
       "      <td>Routine</td>\n",
       "    </tr>\n",
       "    <tr>\n",
       "      <th>Batch 2</th>\n",
       "      <td>89.31</td>\n",
       "      <td>44h 37m</td>\n",
       "      <td>5</td>\n",
       "      <td>7.74</td>\n",
       "      <td>Routine</td>\n",
       "    </tr>\n",
       "    <tr>\n",
       "      <th>Batch 3</th>\n",
       "      <td>93.24</td>\n",
       "      <td>45h 15m</td>\n",
       "      <td>5</td>\n",
       "      <td>3.07</td>\n",
       "      <td>Routine</td>\n",
       "    </tr>\n",
       "    <tr>\n",
       "      <th>Batch 4</th>\n",
       "      <td>97.62</td>\n",
       "      <td>41h 34m</td>\n",
       "      <td>1</td>\n",
       "      <td>6.37</td>\n",
       "      <td>Golden</td>\n",
       "    </tr>\n",
       "    <tr>\n",
       "      <th>Batch 5</th>\n",
       "      <td>88.83</td>\n",
       "      <td>46h 42m</td>\n",
       "      <td>0</td>\n",
       "      <td>7.12</td>\n",
       "      <td>Routine</td>\n",
       "    </tr>\n",
       "  </tbody>\n",
       "</table>\n",
       "</div>"
      ],
      "text/plain": [
       "          Yield (%) Processing Time (hrs)  Deviation Count  \\\n",
       "Batch ID                                                     \n",
       "Batch 1       92.48               36h 40m                4   \n",
       "Batch 2       89.31               44h 37m                5   \n",
       "Batch 3       93.24               45h 15m                5   \n",
       "Batch 4       97.62               41h 34m                1   \n",
       "Batch 5       88.83               46h 42m                0   \n",
       "\n",
       "          Deviation Severity Score (avg) Batch Type  \n",
       "Batch ID                                             \n",
       "Batch 1                             6.29    Routine  \n",
       "Batch 2                             7.74    Routine  \n",
       "Batch 3                             3.07    Routine  \n",
       "Batch 4                             6.37     Golden  \n",
       "Batch 5                             7.12    Routine  "
      ]
     },
     "execution_count": 166,
     "metadata": {},
     "output_type": "execute_result"
    }
   ],
   "source": [
    "#Display the first five rows of the cleaned dataset\n",
    "exceldoc.head()"
   ]
  },
  {
   "cell_type": "code",
   "execution_count": 167,
   "id": "4197521d",
   "metadata": {},
   "outputs": [
    {
     "data": {
      "text/html": [
       "<div>\n",
       "<style scoped>\n",
       "    .dataframe tbody tr th:only-of-type {\n",
       "        vertical-align: middle;\n",
       "    }\n",
       "\n",
       "    .dataframe tbody tr th {\n",
       "        vertical-align: top;\n",
       "    }\n",
       "\n",
       "    .dataframe thead th {\n",
       "        text-align: right;\n",
       "    }\n",
       "</style>\n",
       "<table border=\"1\" class=\"dataframe\">\n",
       "  <thead>\n",
       "    <tr style=\"text-align: right;\">\n",
       "      <th></th>\n",
       "      <th>Yield (%)</th>\n",
       "      <th>Processing Time (hrs)</th>\n",
       "      <th>Deviation Count</th>\n",
       "      <th>Deviation Severity Score (avg)</th>\n",
       "      <th>Batch Type</th>\n",
       "    </tr>\n",
       "    <tr>\n",
       "      <th>Batch ID</th>\n",
       "      <th></th>\n",
       "      <th></th>\n",
       "      <th></th>\n",
       "      <th></th>\n",
       "      <th></th>\n",
       "    </tr>\n",
       "  </thead>\n",
       "  <tbody>\n",
       "    <tr>\n",
       "      <th>Batch 96</th>\n",
       "      <td>82.68</td>\n",
       "      <td>51h 4m</td>\n",
       "      <td>3</td>\n",
       "      <td>6.50</td>\n",
       "      <td>Routine</td>\n",
       "    </tr>\n",
       "    <tr>\n",
       "      <th>Batch 97</th>\n",
       "      <td>91.48</td>\n",
       "      <td>40h 55m</td>\n",
       "      <td>4</td>\n",
       "      <td>1.66</td>\n",
       "      <td>Routine</td>\n",
       "    </tr>\n",
       "    <tr>\n",
       "      <th>Batch 98</th>\n",
       "      <td>91.31</td>\n",
       "      <td>49h 13m</td>\n",
       "      <td>3</td>\n",
       "      <td>6.09</td>\n",
       "      <td>Routine</td>\n",
       "    </tr>\n",
       "    <tr>\n",
       "      <th>Batch 99</th>\n",
       "      <td>90.03</td>\n",
       "      <td>48h 28m</td>\n",
       "      <td>0</td>\n",
       "      <td>3.67</td>\n",
       "      <td>Routine</td>\n",
       "    </tr>\n",
       "    <tr>\n",
       "      <th>Batch 100</th>\n",
       "      <td>88.83</td>\n",
       "      <td>38h 51m</td>\n",
       "      <td>0</td>\n",
       "      <td>6.14</td>\n",
       "      <td>Routine</td>\n",
       "    </tr>\n",
       "  </tbody>\n",
       "</table>\n",
       "</div>"
      ],
      "text/plain": [
       "           Yield (%) Processing Time (hrs)  Deviation Count  \\\n",
       "Batch ID                                                      \n",
       "Batch 96       82.68                51h 4m                3   \n",
       "Batch 97       91.48               40h 55m                4   \n",
       "Batch 98       91.31               49h 13m                3   \n",
       "Batch 99       90.03               48h 28m                0   \n",
       "Batch 100      88.83               38h 51m                0   \n",
       "\n",
       "           Deviation Severity Score (avg) Batch Type  \n",
       "Batch ID                                              \n",
       "Batch 96                             6.50    Routine  \n",
       "Batch 97                             1.66    Routine  \n",
       "Batch 98                             6.09    Routine  \n",
       "Batch 99                             3.67    Routine  \n",
       "Batch 100                            6.14    Routine  "
      ]
     },
     "execution_count": 167,
     "metadata": {},
     "output_type": "execute_result"
    }
   ],
   "source": [
    "#Display the last five rows of the cleaned dataset\n",
    "exceldoc.tail()"
   ]
  },
  {
   "cell_type": "code",
   "execution_count": 168,
   "id": "33a4a10b",
   "metadata": {},
   "outputs": [
    {
     "data": {
      "text/plain": [
       "Routine    90\n",
       "Golden     10\n",
       "Name: Batch Type, dtype: int64"
      ]
     },
     "execution_count": 168,
     "metadata": {},
     "output_type": "execute_result"
    }
   ],
   "source": [
    "#Count how many batches are labeled as 'Golden' vs 'Routine'\n",
    "#This helps validate that the labeling logic is working correctly\n",
    "exceldoc['Batch Type'].value_counts()"
   ]
  },
  {
   "cell_type": "code",
   "execution_count": 187,
   "id": "d47c6e32",
   "metadata": {
    "scrolled": false
   },
   "outputs": [
    {
     "data": {
      "text/html": [
       "<div>\n",
       "<style scoped>\n",
       "    .dataframe tbody tr th:only-of-type {\n",
       "        vertical-align: middle;\n",
       "    }\n",
       "\n",
       "    .dataframe tbody tr th {\n",
       "        vertical-align: top;\n",
       "    }\n",
       "\n",
       "    .dataframe thead th {\n",
       "        text-align: right;\n",
       "    }\n",
       "</style>\n",
       "<table border=\"1\" class=\"dataframe\">\n",
       "  <thead>\n",
       "    <tr style=\"text-align: right;\">\n",
       "      <th></th>\n",
       "      <th>Yield (%)</th>\n",
       "      <th>Processing Time (hrs)</th>\n",
       "      <th>Deviation Count</th>\n",
       "      <th>Deviation Severity Score (avg)</th>\n",
       "      <th>Batch Type</th>\n",
       "      <th>Is_Golden</th>\n",
       "      <th>Processing_Time_float</th>\n",
       "    </tr>\n",
       "    <tr>\n",
       "      <th>Batch ID</th>\n",
       "      <th></th>\n",
       "      <th></th>\n",
       "      <th></th>\n",
       "      <th></th>\n",
       "      <th></th>\n",
       "      <th></th>\n",
       "      <th></th>\n",
       "    </tr>\n",
       "  </thead>\n",
       "  <tbody>\n",
       "    <tr>\n",
       "      <th>Batch 4</th>\n",
       "      <td>97.62</td>\n",
       "      <td>41h 34m</td>\n",
       "      <td>1</td>\n",
       "      <td>6.37</td>\n",
       "      <td>Golden</td>\n",
       "      <td>1</td>\n",
       "      <td>41.566667</td>\n",
       "    </tr>\n",
       "    <tr>\n",
       "      <th>Batch 7</th>\n",
       "      <td>97.90</td>\n",
       "      <td>63h 5m</td>\n",
       "      <td>2</td>\n",
       "      <td>2.63</td>\n",
       "      <td>Golden</td>\n",
       "      <td>1</td>\n",
       "      <td>63.083333</td>\n",
       "    </tr>\n",
       "    <tr>\n",
       "      <th>Batch 21</th>\n",
       "      <td>97.33</td>\n",
       "      <td>54h 19m</td>\n",
       "      <td>3</td>\n",
       "      <td>2.39</td>\n",
       "      <td>Golden</td>\n",
       "      <td>1</td>\n",
       "      <td>54.316667</td>\n",
       "    </tr>\n",
       "    <tr>\n",
       "      <th>Batch 32</th>\n",
       "      <td>99.26</td>\n",
       "      <td>48h 32m</td>\n",
       "      <td>2</td>\n",
       "      <td>3.41</td>\n",
       "      <td>Golden</td>\n",
       "      <td>1</td>\n",
       "      <td>48.533333</td>\n",
       "    </tr>\n",
       "    <tr>\n",
       "      <th>Batch 48</th>\n",
       "      <td>95.29</td>\n",
       "      <td>37h 26m</td>\n",
       "      <td>4</td>\n",
       "      <td>0.40</td>\n",
       "      <td>Golden</td>\n",
       "      <td>1</td>\n",
       "      <td>37.433333</td>\n",
       "    </tr>\n",
       "    <tr>\n",
       "      <th>Batch 55</th>\n",
       "      <td>95.15</td>\n",
       "      <td>50h 20m</td>\n",
       "      <td>3</td>\n",
       "      <td>11.16</td>\n",
       "      <td>Golden</td>\n",
       "      <td>1</td>\n",
       "      <td>50.333333</td>\n",
       "    </tr>\n",
       "    <tr>\n",
       "      <th>Batch 66</th>\n",
       "      <td>96.78</td>\n",
       "      <td>51h 17m</td>\n",
       "      <td>3</td>\n",
       "      <td>6.76</td>\n",
       "      <td>Golden</td>\n",
       "      <td>1</td>\n",
       "      <td>51.283333</td>\n",
       "    </tr>\n",
       "    <tr>\n",
       "      <th>Batch 72</th>\n",
       "      <td>97.69</td>\n",
       "      <td>41h 28m</td>\n",
       "      <td>0</td>\n",
       "      <td>6.08</td>\n",
       "      <td>Golden</td>\n",
       "      <td>1</td>\n",
       "      <td>41.466667</td>\n",
       "    </tr>\n",
       "    <tr>\n",
       "      <th>Batch 74</th>\n",
       "      <td>97.82</td>\n",
       "      <td>50h 43m</td>\n",
       "      <td>2</td>\n",
       "      <td>4.62</td>\n",
       "      <td>Golden</td>\n",
       "      <td>1</td>\n",
       "      <td>50.716667</td>\n",
       "    </tr>\n",
       "    <tr>\n",
       "      <th>Batch 83</th>\n",
       "      <td>97.39</td>\n",
       "      <td>39h 25m</td>\n",
       "      <td>0</td>\n",
       "      <td>3.82</td>\n",
       "      <td>Golden</td>\n",
       "      <td>1</td>\n",
       "      <td>39.416667</td>\n",
       "    </tr>\n",
       "  </tbody>\n",
       "</table>\n",
       "</div>"
      ],
      "text/plain": [
       "          Yield (%) Processing Time (hrs)  Deviation Count  \\\n",
       "Batch ID                                                     \n",
       "Batch 4       97.62               41h 34m                1   \n",
       "Batch 7       97.90                63h 5m                2   \n",
       "Batch 21      97.33               54h 19m                3   \n",
       "Batch 32      99.26               48h 32m                2   \n",
       "Batch 48      95.29               37h 26m                4   \n",
       "Batch 55      95.15               50h 20m                3   \n",
       "Batch 66      96.78               51h 17m                3   \n",
       "Batch 72      97.69               41h 28m                0   \n",
       "Batch 74      97.82               50h 43m                2   \n",
       "Batch 83      97.39               39h 25m                0   \n",
       "\n",
       "          Deviation Severity Score (avg) Batch Type  Is_Golden  \\\n",
       "Batch ID                                                         \n",
       "Batch 4                             6.37     Golden          1   \n",
       "Batch 7                             2.63     Golden          1   \n",
       "Batch 21                            2.39     Golden          1   \n",
       "Batch 32                            3.41     Golden          1   \n",
       "Batch 48                            0.40     Golden          1   \n",
       "Batch 55                           11.16     Golden          1   \n",
       "Batch 66                            6.76     Golden          1   \n",
       "Batch 72                            6.08     Golden          1   \n",
       "Batch 74                            4.62     Golden          1   \n",
       "Batch 83                            3.82     Golden          1   \n",
       "\n",
       "          Processing_Time_float  \n",
       "Batch ID                         \n",
       "Batch 4               41.566667  \n",
       "Batch 7               63.083333  \n",
       "Batch 21              54.316667  \n",
       "Batch 32              48.533333  \n",
       "Batch 48              37.433333  \n",
       "Batch 55              50.333333  \n",
       "Batch 66              51.283333  \n",
       "Batch 72              41.466667  \n",
       "Batch 74              50.716667  \n",
       "Batch 83              39.416667  "
      ]
     },
     "execution_count": 187,
     "metadata": {},
     "output_type": "execute_result"
    }
   ],
   "source": [
    "#Display only the batches labeled as 'Golden'\n",
    "#This allows us to inspect high performing batches and analyze their characteristics\n",
    "exceldoc[exceldoc['Batch Type'] == 'Golden']"
   ]
  },
  {
   "cell_type": "markdown",
   "id": "e8381526",
   "metadata": {},
   "source": [
    "---\n",
    "\n",
    "**Quick Recap**\n",
    "\n",
    "- The 90th percentile cutoff gave us a reasonable threshold to define high performing (Golden) batches.\n",
    "- This labeling enables clearer comparisons later, across yield, deviation counts, and processing time.\n",
    "\n",
    "- Now we can start asking: *What actually sets Golden batches apart?*\n",
    "\n",
    "---"
   ]
  },
  {
   "cell_type": "markdown",
   "id": "d1e2f14b",
   "metadata": {},
   "source": [
    "## Chunk 5: Comparing Performance Across Batch Types \n",
    "\n",
    "Next, we'll calculate the average metrics (yield, deviation count, and severity score) for Golden vs Routine batches. This comparison helps us understand how high performing batches differ from the rest. "
   ]
  },
  {
   "cell_type": "markdown",
   "id": "f368b7f5",
   "metadata": {},
   "source": [
    "---\n",
    "\n",
    "**Quick Summary**\n",
    "\n",
    "We will:\n",
    "\n",
    "- Count how many batches are labeled 'Golden' vs 'Routine'.\n",
    "- Create a binary `Is_Golden` column to allow numerical comparisons.\n",
    "- Use `.groupby()` to compare mean measures across batch types.\n",
    "\n",
    "---"
   ]
  },
  {
   "cell_type": "code",
   "execution_count": 170,
   "id": "81b7ecfa",
   "metadata": {},
   "outputs": [
    {
     "data": {
      "text/plain": [
       "Routine    90\n",
       "Golden     10\n",
       "Name: Batch Type, dtype: int64"
      ]
     },
     "execution_count": 170,
     "metadata": {},
     "output_type": "execute_result"
    }
   ],
   "source": [
    "#Count batches in each category\n",
    "exceldoc['Batch Type'].value_counts()"
   ]
  },
  {
   "cell_type": "code",
   "execution_count": 171,
   "id": "7401ce68",
   "metadata": {
    "scrolled": true
   },
   "outputs": [
    {
     "data": {
      "text/html": [
       "<div>\n",
       "<style scoped>\n",
       "    .dataframe tbody tr th:only-of-type {\n",
       "        vertical-align: middle;\n",
       "    }\n",
       "\n",
       "    .dataframe tbody tr th {\n",
       "        vertical-align: top;\n",
       "    }\n",
       "\n",
       "    .dataframe thead th {\n",
       "        text-align: right;\n",
       "    }\n",
       "</style>\n",
       "<table border=\"1\" class=\"dataframe\">\n",
       "  <thead>\n",
       "    <tr style=\"text-align: right;\">\n",
       "      <th></th>\n",
       "      <th>Yield (%)</th>\n",
       "      <th>Processing Time (hrs)</th>\n",
       "      <th>Deviation Count</th>\n",
       "      <th>Deviation Severity Score (avg)</th>\n",
       "      <th>Batch Type</th>\n",
       "      <th>Is_Golden</th>\n",
       "    </tr>\n",
       "    <tr>\n",
       "      <th>Batch ID</th>\n",
       "      <th></th>\n",
       "      <th></th>\n",
       "      <th></th>\n",
       "      <th></th>\n",
       "      <th></th>\n",
       "      <th></th>\n",
       "    </tr>\n",
       "  </thead>\n",
       "  <tbody>\n",
       "    <tr>\n",
       "      <th>Batch 1</th>\n",
       "      <td>92.48</td>\n",
       "      <td>36h 40m</td>\n",
       "      <td>4</td>\n",
       "      <td>6.29</td>\n",
       "      <td>Routine</td>\n",
       "      <td>0</td>\n",
       "    </tr>\n",
       "    <tr>\n",
       "      <th>Batch 2</th>\n",
       "      <td>89.31</td>\n",
       "      <td>44h 37m</td>\n",
       "      <td>5</td>\n",
       "      <td>7.74</td>\n",
       "      <td>Routine</td>\n",
       "      <td>0</td>\n",
       "    </tr>\n",
       "    <tr>\n",
       "      <th>Batch 3</th>\n",
       "      <td>93.24</td>\n",
       "      <td>45h 15m</td>\n",
       "      <td>5</td>\n",
       "      <td>3.07</td>\n",
       "      <td>Routine</td>\n",
       "      <td>0</td>\n",
       "    </tr>\n",
       "    <tr>\n",
       "      <th>Batch 4</th>\n",
       "      <td>97.62</td>\n",
       "      <td>41h 34m</td>\n",
       "      <td>1</td>\n",
       "      <td>6.37</td>\n",
       "      <td>Golden</td>\n",
       "      <td>1</td>\n",
       "    </tr>\n",
       "    <tr>\n",
       "      <th>Batch 5</th>\n",
       "      <td>88.83</td>\n",
       "      <td>46h 42m</td>\n",
       "      <td>0</td>\n",
       "      <td>7.12</td>\n",
       "      <td>Routine</td>\n",
       "      <td>0</td>\n",
       "    </tr>\n",
       "  </tbody>\n",
       "</table>\n",
       "</div>"
      ],
      "text/plain": [
       "          Yield (%) Processing Time (hrs)  Deviation Count  \\\n",
       "Batch ID                                                     \n",
       "Batch 1       92.48               36h 40m                4   \n",
       "Batch 2       89.31               44h 37m                5   \n",
       "Batch 3       93.24               45h 15m                5   \n",
       "Batch 4       97.62               41h 34m                1   \n",
       "Batch 5       88.83               46h 42m                0   \n",
       "\n",
       "          Deviation Severity Score (avg) Batch Type  Is_Golden  \n",
       "Batch ID                                                        \n",
       "Batch 1                             6.29    Routine          0  \n",
       "Batch 2                             7.74    Routine          0  \n",
       "Batch 3                             3.07    Routine          0  \n",
       "Batch 4                             6.37     Golden          1  \n",
       "Batch 5                             7.12    Routine          0  "
      ]
     },
     "execution_count": 171,
     "metadata": {},
     "output_type": "execute_result"
    }
   ],
   "source": [
    "#Add a binary flag column: 1 if Golden, 0 if Routine\n",
    "#This makes it easier to filter or run numerical comparisons later\n",
    "exceldoc['Is_Golden'] = (exceldoc['Batch Type'] == 'Golden').astype(int)\n",
    "\n",
    "#Display the first five rows of the cleaned dataset\n",
    "exceldoc.head()"
   ]
  },
  {
   "cell_type": "code",
   "execution_count": 182,
   "id": "583475b6",
   "metadata": {
    "scrolled": true
   },
   "outputs": [
    {
     "data": {
      "text/html": [
       "<div>\n",
       "<style scoped>\n",
       "    .dataframe tbody tr th:only-of-type {\n",
       "        vertical-align: middle;\n",
       "    }\n",
       "\n",
       "    .dataframe tbody tr th {\n",
       "        vertical-align: top;\n",
       "    }\n",
       "\n",
       "    .dataframe thead th {\n",
       "        text-align: right;\n",
       "    }\n",
       "</style>\n",
       "<table border=\"1\" class=\"dataframe\">\n",
       "  <thead>\n",
       "    <tr style=\"text-align: right;\">\n",
       "      <th></th>\n",
       "      <th>Yield (%)</th>\n",
       "      <th>Deviation Count</th>\n",
       "      <th>Deviation Severity Score (avg)</th>\n",
       "    </tr>\n",
       "    <tr>\n",
       "      <th>Batch Type</th>\n",
       "      <th></th>\n",
       "      <th></th>\n",
       "      <th></th>\n",
       "    </tr>\n",
       "  </thead>\n",
       "  <tbody>\n",
       "    <tr>\n",
       "      <th>Golden</th>\n",
       "      <td>97.22</td>\n",
       "      <td>2.00</td>\n",
       "      <td>4.76</td>\n",
       "    </tr>\n",
       "    <tr>\n",
       "      <th>Routine</th>\n",
       "      <td>88.62</td>\n",
       "      <td>1.93</td>\n",
       "      <td>4.75</td>\n",
       "    </tr>\n",
       "  </tbody>\n",
       "</table>\n",
       "</div>"
      ],
      "text/plain": [
       "            Yield (%)  Deviation Count  Deviation Severity Score (avg)\n",
       "Batch Type                                                            \n",
       "Golden          97.22             2.00                            4.76\n",
       "Routine         88.62             1.93                            4.75"
      ]
     },
     "execution_count": 182,
     "metadata": {},
     "output_type": "execute_result"
    }
   ],
   "source": [
    "#Compare average metrics between Golden and Routine batches\n",
    "exceldoc.groupby('Batch Type')[['Yield (%)', 'Processing Time (hrs)', 'Deviation Count', 'Deviation Severity Score (avg)']].mean().round(2)"
   ]
  },
  {
   "cell_type": "markdown",
   "id": "796b8635",
   "metadata": {},
   "source": [
    "---\n",
    "\n",
    "**Quick Recap**\n",
    "\n",
    "This chunk reveals a key insight: while Golden batches clearly outperform Routine batches in terms of Yield(%), they do **not** have significantly fewer or less severe deviations. In fact, Routine batches show slightly **lower average deviation count and severity score**, challenging the assumption that Golden status reflects \"cleaner\" processes. \n",
    "\n",
    "This unexpected result makes the case for deeper analysis in the next chunk. This finding sets the stage for the next chunk, where we seach for **hidden factors** that may explain why Golden batches consistently yield better outcomes. \n",
    "\n",
    "**Note**: \"Processing Time (hrs)\" didn't appear in this groupby output because it's stored as a string (text, not numbers). We chose not to convert it since the main focus for now is on yield and deviation trends. \n",
    "\n",
    "---"
   ]
  },
  {
   "cell_type": "markdown",
   "id": "bba416e9",
   "metadata": {},
   "source": [
    "## Chunk 6: Visualizing Batch Comparisons (Bar Plot)\n",
    "\n",
    "We're ready to compare ***Golden vs Routine*** batches across three of our key process indicators: **Yield(%)**, **Deviation Count**, and **Deviation Severity Score (avg)**.\n",
    "\n",
    "**Note:** Yield is on a much larger scale than the other variables, which can skew comparisons. We'll adjust for this in the visualization."
   ]
  },
  {
   "cell_type": "markdown",
   "id": "68898ff4",
   "metadata": {},
   "source": [
    "---\n",
    "\n",
    "**Quick Summary**\n",
    "\n",
    "\n",
    "\n",
    "This chunk improves batch performance comparisons by isolating each feature into its own subplot. Golden batches show a **clear increase in yield**, while **deviation count** and **severity** remain comparable to routine batches. \n",
    "\n",
    "\n",
    "***What We Do Next***\n",
    "\n",
    "We proceed with the following in this and the next few code blocks:\n",
    "\n",
    "- Import `matplotlib` and `seaborn`for charting.\n",
    "- Create an aggregated DataFrame of averages by Batch Type.\n",
    "- Use `melt()` to reshape the DataFrame for plotting.\n",
    "- Try a grouped bar plot (note: scale distortion makes it ineffective).\n",
    "- Refactor to use three subplots, one per indicator.\n",
    "- Finalize with an interpretation that links visual trends to system-level performance gaps. \n",
    "\n",
    "---"
   ]
  },
  {
   "cell_type": "code",
   "execution_count": 188,
   "id": "3ed3ef17",
   "metadata": {},
   "outputs": [],
   "source": [
    "#Import libraries for data visualization\n",
    "import matplotlib.pyplot as plt # For creating static plots (bar, scatter , etc.)\n",
    "import seaborn as sns           # For advanced, styled statistical plots"
   ]
  },
  {
   "cell_type": "markdown",
   "id": "9943c62f",
   "metadata": {},
   "source": [
    "#### Initial Visualization (Less Effective)\n",
    ">The first grouped bar chart shows all metrics on the same axis. However, since **Yield is in the 90s** while the other metrics are near zero, the comparison becomes distorted."
   ]
  },
  {
   "cell_type": "code",
   "execution_count": 174,
   "id": "97f69335",
   "metadata": {
    "scrolled": false
   },
   "outputs": [
    {
     "data": {
      "image/png": "[encoded data removed]",
      "text/plain": [
       "<Figure size 720x432 with 1 Axes>"
      ]
     },
     "metadata": {
      "needs_background": "light"
     },
     "output_type": "display_data"
    }
   ],
   "source": [
    "# Create a DataFrame with average metrics grouped by Batch Type\n",
    "avg_metrics = exceldoc.groupby('Batch Type')[['Yield (%)', 'Deviation Count', 'Deviation Severity Score (avg)']].mean().reset_index()\n",
    "\n",
    "# Melt the DataFrame to long format for seaborn (required for grouped bar plots)\n",
    "avg_metrics_melted = avg_metrics.melt(id_vars = 'Batch Type', var_name = 'Metric', value_name = 'Average Value')\n",
    "\n",
    "#Create a bar plot comparing the average metrics by Batch Type\n",
    "plt.figure(figsize =(10,6)) # Width x Height in inches \n",
    "sns.barplot(data = avg_metrics_melted, x = 'Metric', y = 'Average Value', hue = 'Batch Type')\n",
    "\n",
    "# Add chart elements for clarity\n",
    "plt.title('Comparison of Average Metrics by Batch Type', fontsize=14)\n",
    "plt.ylabel('Average Value')\n",
    "plt.xlabel('Metric')\n",
    "plt.legend(title = 'Batch Type')\n",
    "plt.tight_layout()\n",
    "plt.show()"
   ]
  },
  {
   "cell_type": "markdown",
   "id": "9f625879",
   "metadata": {},
   "source": [
    "#### Why it Didn't Work\n",
    "\n",
    "> Because Yield is so much larger in scale than Deviation Count or Severity, it overwhelms the chart. This makes it **visually difficult** to detect performance differences across smaller metrics."
   ]
  },
  {
   "cell_type": "markdown",
   "id": "52172dd4",
   "metadata": {},
   "source": [
    "#### Improved Visualization: Metric Specific Subplots\n",
    "> We solved this by splitting the metrics into individual subplots, giving each its own Y-axis for better scale comparison. \n",
    "\n",
    "> **Note:** Axis scaling was deliberately left dynamic to better highlight relative differences across metrics. Fixed scaling was tested but flattened meaningful contrasts."
   ]
  },
  {
   "cell_type": "code",
   "execution_count": 175,
   "id": "01b469a4",
   "metadata": {
    "scrolled": true
   },
   "outputs": [
    {
     "data": {
      "image/png": "[encoded data removed]",
      "text/plain": [
       "<Figure size 1080x360 with 3 Axes>"
      ]
     },
     "metadata": {
      "needs_background": "light"
     },
     "output_type": "display_data"
    }
   ],
   "source": [
    "# Create a subplot grid: 1 row, 3 columns\n",
    "plt.figure(figsize = (15,5)) # Width x Height in inches \n",
    "\n",
    "# Define the metrics to plot\n",
    "metrics = ['Yield (%)', 'Deviation Count', 'Deviation Severity Score (avg)']\n",
    "\n",
    "# Loop through each metric and create a subplot\n",
    "for i, metric in enumerate(metrics):\n",
    "    plt.subplot(1,3, i + 1)  #1 row, 3 columns, plot number ((i + 1))\n",
    "    sns.barplot(data = avg_metrics, x = 'Batch Type', y = metric)\n",
    "    plt.title(metric, fontsize = 12)\n",
    "    plt.xlabel('')\n",
    "    plt.ylabel('Average', fontsize=10)\n",
    "\n",
    "plt.suptitle('Metric Comparison Across Batch Types', fontsize=16, y=1.05)\n",
    "plt.tight_layout()\n",
    "plt.show()"
   ]
  },
  {
   "cell_type": "markdown",
   "id": "573b86a0",
   "metadata": {},
   "source": [
    "---\n",
    "\n",
    "**Quick Recap**\n",
    "\n",
    "This chunk enhances the previous summary by converting numeric trends into visual form. \n",
    "Golden batches continue to show higher **yield**, while  **deviation indicators** stay on par with routine batches. \n",
    "\n",
    "This suggests Golden performance may stem from yield specific drivers, not necessarily cleaner or more controlled processes. That distinction is key for improving quality systems. \n",
    "\n",
    "***Why This Matters***\n",
    "\n",
    "\n",
    "Understanding that Golden batches outperform on yield but not on deviation outcomes helps pinpoint where improvements are truly happening. It also raises high value questions for investigation:\n",
    "\n",
    "- Are Golden batches succeeding due to **upstream yield drivers**, not deviation prevention?\n",
    "- Can we replicate high yield outcomes **while reducing deviations**?\n",
    "- Should deviation trends viewed as **lagging indicators** rather than predictive quality controls?\n",
    "\n",
    "> **Lagging indicators** are performance measurements that reflect what happened **after** a process is completed. They help evaluate *past performance*, but they don't help prevent issues in *real time*. \n",
    "\n",
    "***Key Insight***\n",
    "\n",
    "Golden batches **excel in yield**, not in deviation-related indicators, suggesting **isolated success, not systemic quality**.\n",
    "\n",
    "---\n"
   ]
  },
  {
   "cell_type": "markdown",
   "id": "59699877",
   "metadata": {},
   "source": [
    "## Chunk 7: Visualizing Feature Correlations (Heatmap)\n",
    "\n",
    "To understand how batch metrics relate to one another, we'll generate a correlation heatmap across three of our key numeric features:\n",
    "\n",
    "- Yield (%)\n",
    "- Deviation Count\n",
    "- Deviation Severity Score\n",
    "\n",
    "This lets us:\n",
    "- Spot which metrics are strongly related (positively or negatively).\n",
    "- Detect tradeoffs (e.g., higher yield but more severe deviations).\n",
    "- Identify where improvements might be linked or isolated. \n",
    "\n",
    "---\n",
    "\n",
    "**Quick Summary**\n",
    "\n",
    "\n",
    "We'll use a heatmap to show these relationships. Darker shades = stronger correlation (positive or negative). \n",
    "\n",
    "**Color Tips:** \n",
    "- **Dark red** = strong **positive** correlation (when one metric increases, so does the other)\n",
    "- **Dark blue** = strong **negative** correlation (one goes up, the other goes down)\n",
    "- **Lighter shades** = weak or no correlation\n",
    "\n",
    "**Note:** To address label overlap from earlier versions, `plt.xticks(rotation=45)` was added to improve readability.\n",
    "\n",
    "---"
   ]
  },
  {
   "cell_type": "code",
   "execution_count": 206,
   "id": "d359d470",
   "metadata": {},
   "outputs": [
    {
     "data": {
      "image/png": "[encoded data removed]",
      "text/plain": [
       "<Figure size 576x432 with 2 Axes>"
      ]
     },
     "metadata": {
      "needs_background": "light"
     },
     "output_type": "display_data"
    }
   ],
   "source": [
    "#Import the visualization libraries\n",
    "import matplotlib.pyplot as plt\n",
    "import seaborn as sns\n",
    "\n",
    "#Select the numeric columns we want to analyze for relationships\n",
    "numeric_features = exceldoc[['Yield (%)', 'Processing Time (hrs)', 'Deviation Count', 'Deviation Severity Score (avg)']]\n",
    "\n",
    "# Calculate how strongly each pair of columns are related (correlation matrix)\n",
    "correlation_matrix = numeric_features.corr()\n",
    "\n",
    "# Create a heatmap to visualize the correlations\n",
    "plt.figure(figsize = (8,6)) #width x height in inches\n",
    "sns.heatmap(correlation_matrix, annot = True, cmap = 'coolwarm', fmt='.2f', linewidths=0.5)\n",
    "\n",
    "# Add chart elements\n",
    "plt.title('Correlation Heatmap of Batch Metrics', fontsize = 14)\n",
    "plt.xticks(rotation=45) #rotate x-axis labels for clarity\n",
    "plt.tight_layout()\n",
    "plt.show()\n"
   ]
  },
  {
   "cell_type": "markdown",
   "id": "bb43c256",
   "metadata": {},
   "source": [
    "---\n",
    "**Quick Recap**\n",
    "\n",
    "Here’s what we found:\n",
    "\n",
    "**1. Yield vs. Deviation Metrics**\n",
    "\n",
    "Yield had a very weak **negative** correlation with Deviation Count (−0.09)\n",
    "\n",
    "And a weak **positive** correlation with Deviation Severity Score (+0.14)\n",
    "\n",
    "> ➤ ***Interpretation***: Higher yield doesn’t consistently mean smoother runs. Some high yield batches still had major issues.\n",
    "\n",
    "**2. Deviation Count vs. Deviation Severity Score**\n",
    "\n",
    "These two had a very weak **positive** correlation (+0.03)\n",
    "\n",
    "> ➤ ***Interpretation***: Deviation count and severity don’t rise together as much as expected. Some batches may have many minor deviations rather than a few severe ones.\n",
    "\n",
    "**3. Processing Time**\n",
    "(Not included in this analysis, since it was stored as a text column rather than numeric.)\n",
    "\n",
    "> ***Reminder***: We'll be exploring this separately in the next chunk using visual tools (boxplot + stripplot).\n",
    "\n",
    "---\n",
    "\n",
    "**Overall Takeaway:** \n",
    "\n",
    "Optimizing yield **doesn't guarantee improvements** across other metrics. **Correlation analysis** reveals what's truly connected. \n"
   ]
  },
  {
   "cell_type": "markdown",
   "id": "044e218c",
   "metadata": {},
   "source": [
    "## Chunk 8: Processing Time Distribution (Boxplot + Stripplot)\n",
    "\n",
    "To explore processing time differences between Golden and Routine batches, we'll use a combination of boxplot and stripplot visualizations. This will help us compare both central tendencies and outliers.\n",
    "\n",
    "---\n",
    "\n",
    "**Quick Summary**\n",
    "\n",
    "This chart visualizes how processing time differs by batch type:\n",
    "\n",
    "- **Boxplot** shows median, quartiles, and outliers.\n",
    "\n",
    "- **Stripplot** overlays each individual batch for detail.\n",
    "\n",
    "\n",
    "---\n"
   ]
  },
  {
   "cell_type": "code",
   "execution_count": 208,
   "id": "a28745e0",
   "metadata": {},
   "outputs": [
    {
     "data": {
      "image/png": "[encoded data removed]",
      "text/plain": [
       "<Figure size 720x432 with 1 Axes>"
      ]
     },
     "metadata": {
      "needs_background": "light"
     },
     "output_type": "display_data"
    }
   ],
   "source": [
    "# Processing Time was originally stored as 'hh mm'text.\n",
    "# We converted it to float (in hours) for numerical analysis. \n",
    "\n",
    "#Step 1: Convert 'hh mm' -> float\n",
    "def convert_to_float(time_str):\n",
    "    hours = int(time_str.split('h')[0].strip()) #Extract hours\n",
    "    minutes = int(time_str.split('h')[1].replace('m','').strip())  #Extract minutes\n",
    "    return hours + minutes / 60   #Convert to total hours as float\n",
    "\n",
    "#Step 2: Apply conversion\n",
    "exceldoc['Processing_Time_float'] = exceldoc['Processing Time (hrs)'].apply(convert_to_float)\n",
    "\n",
    "\n",
    "#Step 3-5: Create Box + Strip Plot\n",
    "plt.figure(figsize = (10,6)) \n",
    "sns.boxplot(data = exceldoc, x = 'Batch Type', y = 'Processing_Time_float', palette = 'Set2')\n",
    "sns.stripplot(data = exceldoc, x = 'Batch Type', y = 'Processing_Time_float', color = 'black', size = 3, jitter = True, alpha = 0.6)\n",
    "plt.title('Processing Time Distribution by Batch Type', fontsize = 14)\n",
    "plt.xlabel('Batch Type')\n",
    "plt.ylabel('Processing Time (hrs)')\n",
    "plt.tight_layout()\n",
    "plt.show()\n",
    "\n"
   ]
  },
  {
   "cell_type": "markdown",
   "id": "0ee85a60",
   "metadata": {},
   "source": [
    "---\n",
    "\n",
    "**Quick Recap**\n",
    "\n",
    "This chunk explored how processing time differs between Golden and Routine batches using a boxplot and stripplot combo.\n",
    "\n",
    "What we found:\n",
    "\n",
    "- **Golden batches** tend to have **shorter and more consistent** processing times\n",
    "- **Routine batches** show **wider variability** and more extreme outliers.\n",
    "\n",
    "> ➤ ***Interpretation*** \n",
    "> - Golden batches operate within a **narrower, more predictable range** of processing times. \n",
    "> - Routine batches show **wider spread and more outliers**, hinting at **inconsistent process conditions**. \n",
    "\n",
    "---"
   ]
  },
  {
   "cell_type": "markdown",
   "id": "bb393f3b",
   "metadata": {},
   "source": [
    "**Why it Matters**\n",
    "We excluded Processing Time from the earlier correlation heatmap because it was stored as text. But once converted, we saw a clear pattern. \n",
    "\n",
    "> Golden batches not only yield better, but they also move through production with **more stable timing, reducing unpredictability  in the process**. \n",
    "\n",
    "This supports the idea that process control consistency could be a hidden driver of success, even if it doesn't directly explain deviations. "
   ]
  },
  {
   "cell_type": "code",
   "execution_count": 178,
   "id": "bdf387f1",
   "metadata": {
    "scrolled": true
   },
   "outputs": [
    {
     "data": {
      "text/plain": [
       "dtype('float64')"
      ]
     },
     "execution_count": 178,
     "metadata": {},
     "output_type": "execute_result"
    }
   ],
   "source": [
    "#Confirm that the 'Processing_Time_float'column is now stored as numeric (float64)\n",
    "exceldoc['Processing_Time_float'].dtype"
   ]
  },
  {
   "cell_type": "markdown",
   "id": "34329f3f",
   "metadata": {},
   "source": [
    "## Key Takeaways and Recommendations\n",
    "\n",
    "\n",
    "#### Key Visuals:\n",
    "- Bar Chart: Average metrics by batch type (Golden vs Routine) \n",
    "- Stripplot + Boxplot: Processing time distribution and outliers\n",
    "- Heatmap: Correlations between batch performance metrics\n",
    "\n",
    "---\n",
    "\n",
    "#### Key Findings:\n",
    "\n",
    "- Golden batches had higher average yields compared to Routine batches.\n",
    "- Average deviation count and severity score were nearly identical between the two groups:\n",
    "- Deviation Count: Golden (2.00) vs. Routine (1.93)\n",
    "- Deviation Severity Score: Golden (4.76) vs. Routine (4.75)\n",
    "- Processing time analysis (via boxplot and stripplot) showed Golden batches had shorter and more consistent processing times, a possible sign of stronger process control, though this metric was not analyzed alongside yield or deviation outcomes in this project.\n",
    "\n",
    "---\n",
    "\n",
    "#### Recommendations: \n",
    "- Use this Golden Batch Comparator as a benchmarking tool to evaluate internal process performance over time.\n",
    "- Help operators and engineers visualize what “good” looks like by highlighting traits of consistently high-performing batches.\n",
    "- Investigate deviations from golden behavior to guide SOP improvements or root cause investigations.\n",
    "- Extend this concept into live dashboards that connect to LIMS or historian data for real-time batch monitoring and alerts. \n",
    "\n",
    "---\n",
    "\n",
    "#### Next Steps\n",
    "- Validate this approach with real batch data (e.g., historian or LIMS exports) to confirm insights and expand impact.\n",
    "- Add variables such as equipment used, cost impact, or operator assignment to deepen root cause and efficiency analysis.\n",
    "- Translate insights into onboarding/training material for new hires or deviation response teams.\n",
    "- Package this into a dashboard prototype or compliance tool to support MSAT, QA, and manufacturing teams.. \n",
    "\n",
    "---\n",
    "\n",
    "#### Final Notes\n",
    "This notebook demonstrates:\n",
    "- Data inspection and transformation using pandas\n",
    "- Visualization using matplotlib and seaborn\n",
    "- Practical GMP applications for batch investigations and deviation analysis\n",
    "- A foundation for building advanced batch monitoring tools and decision-support systems\n",
    "\n",
    "> All code was written and executed in a local Jupyter Notebook environment. \n",
    "\n"
   ]
  },
  {
   "cell_type": "code",
   "execution_count": null,
   "id": "7d0f21b2",
   "metadata": {},
   "outputs": [],
   "source": []
  }
 ],
 "metadata": {
  "kernelspec": {
   "display_name": "Python 3 (ipykernel)",
   "language": "python",
   "name": "python3"
  },
  "language_info": {
   "codemirror_mode": {
    "name": "ipython",
    "version": 3
   },
   "file_extension": ".py",
   "mimetype": "text/x-python",
   "name": "python",
   "nbconvert_exporter": "python",
   "pygments_lexer": "ipython3",
   "version": "3.9.5"
  }
 },
 "nbformat": 4,
 "nbformat_minor": 5
}
